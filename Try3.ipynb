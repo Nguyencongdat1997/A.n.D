{
  "nbformat": 4,
  "nbformat_minor": 0,
  "metadata": {
    "colab": {
      "name": "Try3",
      "provenance": [],
      "collapsed_sections": [],
      "toc_visible": true,
      "authorship_tag": "ABX9TyM7BqSJN2H0Mi9erZZEpgh5",
      "include_colab_link": true
    },
    "kernelspec": {
      "name": "python3",
      "display_name": "Python 3"
    }
  },
  "cells": [
    {
      "cell_type": "markdown",
      "metadata": {
        "id": "view-in-github",
        "colab_type": "text"
      },
      "source": [
        "<a href=\"https://colab.research.google.com/github/Nguyencongdat1997/A.n.D/blob/master/Try3.ipynb\" target=\"_parent\"><img src=\"https://colab.research.google.com/assets/colab-badge.svg\" alt=\"Open In Colab\"/></a>"
      ]
    },
    {
      "cell_type": "markdown",
      "metadata": {
        "id": "cPU3Pu_w1mA1"
      },
      "source": [
        "# Import"
      ]
    },
    {
      "cell_type": "code",
      "metadata": {
        "id": "ZGvnZM2j2G4T"
      },
      "source": [
        "import numpy as np\n",
        "import time"
      ],
      "execution_count": 1,
      "outputs": []
    },
    {
      "cell_type": "markdown",
      "metadata": {
        "id": "YUN-BKEBbc2p"
      },
      "source": [
        "# Data"
      ]
    },
    {
      "cell_type": "code",
      "metadata": {
        "id": "5vO3gwGv0HCq",
        "outputId": "1f0262ca-8e7f-498f-a87a-d298fbe6e45d",
        "colab": {
          "base_uri": "https://localhost:8080/",
          "height": 302
        }
      },
      "source": [
        "# example of loading the mnist dataset\n",
        "from keras.datasets import mnist\n",
        "from matplotlib import pyplot\n",
        "\n",
        "# load dataset\n",
        "(trainX, trainy), (testX, testy) = mnist.load_data()\n",
        "# summarize loaded dataset\n",
        "print('Train: X=%s, y=%s' % (trainX.shape, trainy.shape))\n",
        "print('Test: X=%s, y=%s' % (testX.shape, testy.shape))\n",
        "# plot first few images\n",
        "for i in range(9):\n",
        "\t# define subplot\n",
        "\tpyplot.subplot(330 + 1 + i)\n",
        "\t# plot raw pixel data\n",
        "\tpyplot.imshow(trainX[i], cmap=pyplot.get_cmap('gray'))\n",
        "# show the figure\n",
        "pyplot.show()"
      ],
      "execution_count": 19,
      "outputs": [
        {
          "output_type": "stream",
          "text": [
            "Train: X=(60000, 28, 28), y=(60000,)\n",
            "Test: X=(10000, 28, 28), y=(10000,)\n"
          ],
          "name": "stdout"
        },
        {
          "output_type": "display_data",
          "data": {
            "image/png": "[encoded data removed]",
            "text/plain": [
              "<Figure size 432x288 with 9 Axes>"
            ]
          },
          "metadata": {
            "tags": [],
            "needs_background": "light"
          }
        }
      ]
    },
    {
      "cell_type": "code",
      "metadata": {
        "id": "W1XbJXFEbewH",
        "outputId": "a161a513-e104-491f-a3f3-a5ab9725a10d",
        "colab": {
          "base_uri": "https://localhost:8080/"
        }
      },
      "source": [
        "# one-hot encoding\n",
        "num_classes = np.max(trainy) + 1\n",
        "trainy = np.eye(num_classes)[trainy] \n",
        "testy = np.eye(num_classes)[testy] \n",
        "\n",
        "print(trainX.shape, testX.shape)\n",
        "# TODO: shufle dataset if necessary\n",
        "X_train = np.float32(trainX)\n",
        "Y_train = trainy\n",
        "X_test = np.float32(testX)\n",
        "Y_test = testy\n",
        "print(X_train.shape, X_test.shape)"
      ],
      "execution_count": 20,
      "outputs": [
        {
          "output_type": "stream",
          "text": [
            "(60000, 28, 28) (10000, 28, 28)\n",
            "(60000, 28, 28) (10000, 28, 28)\n"
          ],
          "name": "stdout"
        }
      ]
    },
    {
      "cell_type": "markdown",
      "metadata": {
        "id": "UDk6h0PVfXT8"
      },
      "source": [
        "# Model"
      ]
    },
    {
      "cell_type": "code",
      "metadata": {
        "id": "RgIBRk7kfSRt"
      },
      "source": [
        "def sigmoid(z):\n",
        "    s = 1. / (1. + np.exp(-z))\n",
        "    return s"
      ],
      "execution_count": 7,
      "outputs": []
    },
    {
      "cell_type": "code",
      "metadata": {
        "id": "IY0H68ijfjcx"
      },
      "source": [
        "def feed_forward(X, params):\n",
        "    cache = {}\n",
        "\n",
        "    # flatten the image\n",
        "    a0 = X.reshape((X.shape[0], 784, 1))\n",
        "\n",
        "    # Z1 = W1.dot(x) + b1\n",
        "    # print(\"ao\", a0.shape) #(64, 784, 1)\n",
        "    # print(\"W1\", params[\"W1\"].shape) #(128, 784)\n",
        "    cache[\"Z1\"] = np.matmul(params[\"W1\"], a0) + params[\"b1\"]\n",
        "    # print(\"Z1 \", cache[\"Z1\"].shape) #(64, 128, 1)\n",
        "    # A1 = sigmoid(Z1)\n",
        "    cache[\"A1\"] = sigmoid(cache[\"Z1\"])\n",
        "\n",
        "    # Z2 = W2.dot(A1) + b2\n",
        "    cache[\"Z2\"] = np.matmul(params[\"W2\"], cache[\"A1\"]) + params[\"b2\"]\n",
        "\n",
        "    # A2 = softmax(Z2)\n",
        "    cache[\"A2\"] = np.exp(cache[\"Z2\"]) / np.sum(np.exp(cache[\"Z2\"]), axis=0)\n",
        "\n",
        "    return cache"
      ],
      "execution_count": 8,
      "outputs": []
    },
    {
      "cell_type": "code",
      "metadata": {
        "id": "CVVbxWS4UB5D",
        "outputId": "1fff23c8-f465-4d0f-c5c2-ef0b280a406e",
        "colab": {
          "base_uri": "https://localhost:8080/"
        }
      },
      "source": [
        "a = np.array([[2,2],[3,3],[4,4]] )\n",
        "print(a.shape)\n",
        "b = np.array([1,1])\n",
        "print(b.shape)\n",
        "print(np.dot(a,b))\n",
        "print(np.matmul(a,b))\n",
        "a = a.reshape(3,2,1)\n",
        "print(a)\n",
        "print(np.matmul(b.T,a))\n",
        "print(np.dot(b.T,a))"
      ],
      "execution_count": 14,
      "outputs": [
        {
          "output_type": "stream",
          "text": [
            "(3, 2)\n",
            "(2,)\n",
            "[4 6 8]\n",
            "[4 6 8]\n",
            "[[[2]\n",
            "  [2]]\n",
            "\n",
            " [[3]\n",
            "  [3]]\n",
            "\n",
            " [[4]\n",
            "  [4]]]\n",
            "[[4]\n",
            " [6]\n",
            " [8]]\n",
            "[[4]\n",
            " [6]\n",
            " [8]]\n"
          ],
          "name": "stdout"
        }
      ]
    },
    {
      "cell_type": "code",
      "metadata": {
        "id": "tvbNFXcKfmbc"
      },
      "source": [
        "def back_propagate(X, Y, params, cache, m_batch):\n",
        "    # error at last layer\n",
        "    y = Y.reshape(cache[\"A2\"].shape)\n",
        "    a0 = X.reshape((X.shape[0], 784, 1))\n",
        "\n",
        "    dZ2 = cache[\"A2\"] - y\n",
        "    \n",
        "    # print(\"A2 \", cache[\"A2\"].shape)\n",
        "    # print(\"dZ2 \", dZ2.shape)\n",
        "    # # gradients at last layer (Py2 need 1. to transform to float)\n",
        "    # dW = np.dot(dZ, cache[0].T) / batch_size\n",
        "    #     db = np.squeeze(np.sum(dZ, axis=1, keepdims=True)) / batch_size\n",
        "    #     dA_prev = np.dot(cache[1].T, dZ)\n",
        "\n",
        "    #dW2 = (1. / m_batch) * np.matmul(dZ2, cache[\"A1\"].T)\n",
        "    dW2 = (1. / m_batch) * np.sum(np.matmul(dZ2, np.transpose(cache[\"A1\"],(0,2,1))), axis=0)\n",
        "    db2 = (1. / m_batch) * np.sum(dZ2, axis=0)\n",
        "    # print(\"dW2 \", dW2.shape)\n",
        "    # print(\"db2 \", db2.shape)\n",
        "\n",
        "    # back propgate through first layer\n",
        "    #dA1 = np.matmul(params[\"W2\"].T, dZ2)\n",
        "    dA1 = np.matmul(params[\"W2\"].T, dZ2)\n",
        "    dZ1 = dA1 * sigmoid(cache[\"Z1\"]) * (1 - sigmoid(cache[\"Z1\"]))\n",
        "    # gradients at first layer (Py2 need 1. to transform to float)\n",
        "    #dW1 = (1. / m_batch) * np.matmul(dZ1, a0.T)\n",
        "    dW1 = (1. / m_batch) * np.sum(np.matmul(dZ1, np.transpose(a0,(0,2,1))), axis=0)\n",
        "    db1 = (1. / m_batch) * np.sum(dZ1, axis=0)\n",
        "\n",
        "    grads = {\"dW1\": dW1, \"db1\": db1, \"dW2\": dW2, \"db2\": db2}\n",
        "    # print(\"--------------\")\n",
        "    return grads"
      ],
      "execution_count": 9,
      "outputs": []
    },
    {
      "cell_type": "code",
      "metadata": {
        "id": "II81GeaQNhZj"
      },
      "source": [
        "def mini_batch_gradient(dZ_batch, A_prev_batch):\n",
        "    batch_size = dZ_batch.shape[0]\n",
        "    w_grad_list = []\n",
        "    b_grad_list = []\n",
        "    batch_loss = 0\n",
        "    for i in range(batch_size):\n",
        "        dZ, A_prev= dZ_batch[i], A_prev_batch[i]\n",
        "        dWi = np.dot(dZ, A_prev.T)\n",
        "        w_grad_list.append(dWi)\n",
        "\n",
        "    dW = sum(w_grad_list)/batch_size\n",
        "    db = (1. / m_batch) * np.sum(dZ_batch, axis=0)\n",
        "    return dW, db\n",
        "\n",
        "def back_propagate(X, Y, params, cache, m_batch):\n",
        "    # error at last layer\n",
        "    y = Y.reshape(cache[\"A2\"].shape)\n",
        "    a0 = X.reshape((X.shape[0], 784, 1))\n",
        "\n",
        "    dZ2 = cache[\"A2\"] - y\n",
        "    dW2, db2 = mini_batch_gradient(dZ2, cache[\"A1\"])\n",
        "\n",
        "    # back propgate through first layer\n",
        "    #dA1 = np.matmul(params[\"W2\"].T, dZ2)\n",
        "    dA1 = np.matmul(params[\"W2\"].T, dZ2)\n",
        "    dZ1 = dA1 * sigmoid(cache[\"Z1\"]) * (1 - sigmoid(cache[\"Z1\"]))\n",
        "    dW1, db1 = mini_batch_gradient(dZ1, a0)\n",
        "\n",
        "    grads = {\"dW1\": dW1, \"db1\": db1, \"dW2\": dW2, \"db2\": db2}\n",
        "    # print(\"--------------\")\n",
        "    return grads"
      ],
      "execution_count": 13,
      "outputs": []
    },
    {
      "cell_type": "code",
      "metadata": {
        "id": "6frcz9BIf6w6"
      },
      "source": [
        "def update_weights(params, grads, lr):\n",
        "    # with momentum (optional)\n",
        "    # dW1 = (beta * dW1 + (1. - beta) * grads[\"dW1\"])\n",
        "    # db1 = (beta * db1 + (1. - beta) * grads[\"db1\"])\n",
        "    # dW2 = (beta * dW2 + (1. - beta) * grads[\"dW2\"])\n",
        "    # db2 = (beta * db2 + (1. - beta) * grads[\"db2\"])\n",
        "    dW1 = grads[\"dW1\"]\n",
        "    db1 = grads[\"db1\"]\n",
        "    dW2 = grads[\"dW2\"]\n",
        "    db2 = grads[\"db2\"]\n",
        "\n",
        "    # gradient descent\n",
        "    params[\"W1\"] = params[\"W1\"] - lr * dW1\n",
        "    params[\"b1\"] = params[\"b1\"] - lr * db1\n",
        "    params[\"W2\"] = params[\"W2\"] - lr * dW2\n",
        "    params[\"b2\"] = params[\"b2\"] - lr * db2\n",
        "\n",
        "    return params"
      ],
      "execution_count": 10,
      "outputs": []
    },
    {
      "cell_type": "code",
      "metadata": {
        "id": "sNHxy-PIfdRL"
      },
      "source": [
        "def compute_loss(Y, Y_hat):\n",
        "    \n",
        "    y_hat = Y_hat.reshape((Y_hat.shape[0], Y_hat.shape[1]))\n",
        "    #L_sum = np.sum(np.multiply(Y, np.log(y_hat)))\n",
        "    m = Y.shape[0]\n",
        "    L = -(1./m) * np.sum(Y * np.log(y_hat)) / y_hat.shape[0] # L_sum\n",
        "\n",
        "    return L\n",
        "\n",
        "def compute_accuracy(Y, Y_hat):\n",
        "    y_hat = Y_hat.reshape((Y_hat.shape[0], Y_hat.shape[1]))\n",
        "    predictions = [] \n",
        "    for i in range(len(Y)):\n",
        "        pred = np.argmax(y_hat[i]) \n",
        "        predictions.append(pred == np.argmax(Y[i])) \n",
        "    return np.mean(predictions)"
      ],
      "execution_count": 11,
      "outputs": []
    },
    {
      "cell_type": "markdown",
      "metadata": {
        "id": "9PFHK22p1xOj"
      },
      "source": [
        "# Weight Initialization"
      ]
    },
    {
      "cell_type": "code",
      "metadata": {
        "id": "ug5py_sK1sbS"
      },
      "source": [
        "n_x=784\n",
        "n_h=128\n",
        "epochs=4 \n",
        "lr=0.01\n",
        "batch_size=500\n",
        "beta=0.9 \n",
        "digits=10\n",
        "\n",
        "params = {\"W1\": np.random.randn(n_h, n_x) * np.sqrt(1. / n_x),\n",
        "          \"b1\": np.zeros((n_h, 1)) * np.sqrt(1. / n_x),\n",
        "          \"W2\": np.random.randn(digits, n_h) * np.sqrt(1. / n_h),\n",
        "          \"b2\": np.zeros((digits, 1)) * np.sqrt(1. / n_h)}\n"
      ],
      "execution_count": 42,
      "outputs": []
    },
    {
      "cell_type": "markdown",
      "metadata": {
        "id": "a0l9lEE7fd5T"
      },
      "source": [
        "# Trainer"
      ]
    },
    {
      "cell_type": "code",
      "metadata": {
        "id": "hWG828XrggFj",
        "outputId": "dcd91f2e-67d3-4223-b4a3-debe866cfe84",
        "colab": {
          "base_uri": "https://localhost:8080/",
          "height": 1000
        }
      },
      "source": [
        "start_time = time.time()\n",
        "for i in range(epochs): #360s/4ep - 4ep75% - \n",
        "    learning_rate = lr*0.9**i\n",
        "    # shuffle training set\n",
        "    # permutation = np.random.permutation(X_train.shape[1])\n",
        "    # X_train_shuffled = X_train[:, permutation]\n",
        "    # Y_train_shuffled = Y_train[:, permutation]\n",
        "    X_train_shuffled = X_train\n",
        "    Y_train_shuffled = Y_train\n",
        "\n",
        "    mini_batches= int(X_train.shape[0]/batch_size)\n",
        "    for j in range(mini_batches):\n",
        "        learning_rate = max(learning_rate*0.99, 0.00075)\n",
        "        start = int(len(X_train_shuffled) * j / mini_batches)\n",
        "        stop = int(len(X_train_shuffled) * (j + 1) / mini_batches)\n",
        "        X = X_train_shuffled[start:stop]; Y = Y_train_shuffled[start:stop]\n",
        "        m_batch = stop - start\n",
        "\n",
        "        # forward and backward\n",
        "\n",
        "        cache = feed_forward(X, params)\n",
        "\n",
        "        grads = back_propagate(X, Y, params, cache, m_batch)\n",
        "        #print(grads)\n",
        "        params = update_weights(params, grads, learning_rate)\n",
        "\n",
        "        train_acc = compute_accuracy(Y, cache[\"A2\"])\n",
        "        cache2 = feed_forward(X_test, params)\n",
        "        test_acc = compute_accuracy(Y_test, cache2[\"A2\"])\n",
        "        print('Train Accuracy: {0:.2f}%. Test Accuracy: {1:.2f}%. LR: {2}'.format(train_acc * 100, test_acc * 100, learning_rate))\n",
        "\n",
        "    # forward pass on training set\n",
        "    cache = feed_forward(X_train, params)\n",
        "    train_loss = compute_loss(Y_train, cache[\"A2\"])\n",
        "\n",
        "    # forward pass on test set\n",
        "    cache = feed_forward(X_test, params)\n",
        "    test_loss = compute_loss(Y_test, cache[\"A2\"])\n",
        "    print(\"Epoch {}: training loss = {}, test loss = {}\".format(\n",
        "        i + 1, train_loss, test_loss))\n",
        "    test_acc = compute_accuracy(Y_test, cache[\"A2\"])\n",
        "    print('Epoch: {0}, Time Spent: {1:.2f}s, Accuracy: {2:.2f}%'.format(\n",
        "            i+1, time.time() - start_time, test_acc * 100))"
      ],
      "execution_count": 44,
      "outputs": [
        {
          "output_type": "stream",
          "text": [
            "Train Accuracy: 77.60%. Test Accuracy: 74.72%. LR: 0.0099\n",
            "Train Accuracy: 71.60%. Test Accuracy: 74.82%. LR: 0.009801\n",
            "Train Accuracy: 69.60%. Test Accuracy: 74.80%. LR: 0.00970299\n",
            "Train Accuracy: 75.80%. Test Accuracy: 74.88%. LR: 0.0096059601\n",
            "Train Accuracy: 77.60%. Test Accuracy: 75.23%. LR: 0.009509900499\n",
            "Train Accuracy: 80.00%. Test Accuracy: 74.84%. LR: 0.00941480149401\n",
            "Train Accuracy: 77.00%. Test Accuracy: 74.80%. LR: 0.0093206534790699\n",
            "Train Accuracy: 76.00%. Test Accuracy: 74.93%. LR: 0.0092274469442792\n",
            "Train Accuracy: 77.40%. Test Accuracy: 74.44%. LR: 0.009135172474836408\n",
            "Train Accuracy: 77.20%. Test Accuracy: 74.43%. LR: 0.009043820750088045\n",
            "Train Accuracy: 75.20%. Test Accuracy: 74.37%. LR: 0.008953382542587164\n",
            "Train Accuracy: 74.40%. Test Accuracy: 74.37%. LR: 0.008863848717161293\n",
            "Train Accuracy: 76.40%. Test Accuracy: 74.56%. LR: 0.00877521022998968\n",
            "Train Accuracy: 75.40%. Test Accuracy: 74.50%. LR: 0.008687458127689783\n",
            "Train Accuracy: 72.80%. Test Accuracy: 74.58%. LR: 0.008600583546412886\n",
            "Train Accuracy: 73.40%. Test Accuracy: 74.66%. LR: 0.008514577710948757\n",
            "Train Accuracy: 72.00%. Test Accuracy: 74.53%. LR: 0.00842943193383927\n",
            "Train Accuracy: 71.00%. Test Accuracy: 74.29%. LR: 0.008345137614500876\n",
            "Train Accuracy: 77.20%. Test Accuracy: 74.29%. LR: 0.008261686238355867\n",
            "Train Accuracy: 79.20%. Test Accuracy: 74.54%. LR: 0.008179069375972308\n",
            "Train Accuracy: 75.20%. Test Accuracy: 74.39%. LR: 0.008097278682212584\n",
            "Train Accuracy: 76.20%. Test Accuracy: 74.53%. LR: 0.00801630589539046\n",
            "Train Accuracy: 76.80%. Test Accuracy: 74.81%. LR: 0.007936142836436554\n",
            "Train Accuracy: 71.20%. Test Accuracy: 74.65%. LR: 0.007856781408072189\n",
            "Train Accuracy: 74.20%. Test Accuracy: 74.58%. LR: 0.007778213593991467\n",
            "Train Accuracy: 72.60%. Test Accuracy: 74.41%. LR: 0.007700431458051552\n",
            "Train Accuracy: 75.80%. Test Accuracy: 74.38%. LR: 0.007623427143471037\n",
            "Train Accuracy: 75.00%. Test Accuracy: 74.57%. LR: 0.007547192872036326\n",
            "Train Accuracy: 74.20%. Test Accuracy: 74.34%. LR: 0.007471720943315963\n",
            "Train Accuracy: 68.40%. Test Accuracy: 74.63%. LR: 0.007397003733882804\n",
            "Train Accuracy: 77.00%. Test Accuracy: 74.33%. LR: 0.007323033696543976\n",
            "Train Accuracy: 71.20%. Test Accuracy: 74.21%. LR: 0.007249803359578536\n",
            "Train Accuracy: 72.80%. Test Accuracy: 74.35%. LR: 0.0071773053259827505\n",
            "Train Accuracy: 72.20%. Test Accuracy: 74.32%. LR: 0.007105532272722923\n",
            "Train Accuracy: 76.00%. Test Accuracy: 74.18%. LR: 0.007034476949995694\n",
            "Train Accuracy: 70.40%. Test Accuracy: 74.20%. LR: 0.006964132180495737\n",
            "Train Accuracy: 74.40%. Test Accuracy: 74.29%. LR: 0.00689449085869078\n",
            "Train Accuracy: 76.20%. Test Accuracy: 74.34%. LR: 0.006825545950103872\n",
            "Train Accuracy: 77.00%. Test Accuracy: 74.39%. LR: 0.0067572904906028335\n",
            "Train Accuracy: 76.40%. Test Accuracy: 74.53%. LR: 0.006689717585696805\n",
            "Train Accuracy: 74.20%. Test Accuracy: 74.31%. LR: 0.006622820409839836\n",
            "Train Accuracy: 71.20%. Test Accuracy: 74.39%. LR: 0.006556592205741438\n",
            "Train Accuracy: 76.40%. Test Accuracy: 74.62%. LR: 0.006491026283684023\n",
            "Train Accuracy: 80.20%. Test Accuracy: 74.76%. LR: 0.006426116020847182\n",
            "Train Accuracy: 71.60%. Test Accuracy: 74.53%. LR: 0.006361854860638711\n",
            "Train Accuracy: 72.40%. Test Accuracy: 74.43%. LR: 0.006298236312032323\n",
            "Train Accuracy: 77.00%. Test Accuracy: 74.61%. LR: 0.006235253948912\n",
            "Train Accuracy: 76.40%. Test Accuracy: 74.44%. LR: 0.00617290140942288\n",
            "Train Accuracy: 73.80%. Test Accuracy: 74.33%. LR: 0.006111172395328651\n",
            "Train Accuracy: 70.00%. Test Accuracy: 74.25%. LR: 0.0060500606713753645\n",
            "Train Accuracy: 77.20%. Test Accuracy: 74.21%. LR: 0.005989560064661611\n",
            "Train Accuracy: 77.20%. Test Accuracy: 74.21%. LR: 0.005929664464014994\n",
            "Train Accuracy: 75.00%. Test Accuracy: 74.15%. LR: 0.0058703678193748445\n",
            "Train Accuracy: 71.20%. Test Accuracy: 74.08%. LR: 0.005811664141181096\n",
            "Train Accuracy: 72.60%. Test Accuracy: 74.11%. LR: 0.0057535474997692845\n",
            "Train Accuracy: 77.20%. Test Accuracy: 74.03%. LR: 0.005696012024771591\n",
            "Train Accuracy: 76.00%. Test Accuracy: 73.96%. LR: 0.005639051904523875\n",
            "Train Accuracy: 74.00%. Test Accuracy: 74.07%. LR: 0.005582661385478636\n",
            "Train Accuracy: 73.60%. Test Accuracy: 73.75%. LR: 0.0055268347716238495\n",
            "Train Accuracy: 70.00%. Test Accuracy: 73.80%. LR: 0.005471566423907611\n",
            "Train Accuracy: 72.60%. Test Accuracy: 73.70%. LR: 0.005416850759668535\n",
            "Train Accuracy: 69.60%. Test Accuracy: 73.78%. LR: 0.005362682252071849\n",
            "Train Accuracy: 71.00%. Test Accuracy: 73.60%. LR: 0.005309055429551131\n",
            "Train Accuracy: 70.40%. Test Accuracy: 73.56%. LR: 0.00525596487525562\n",
            "Train Accuracy: 65.60%. Test Accuracy: 73.60%. LR: 0.005203405226503063\n",
            "Train Accuracy: 71.00%. Test Accuracy: 73.69%. LR: 0.005151371174238033\n",
            "Train Accuracy: 72.20%. Test Accuracy: 73.59%. LR: 0.005099857462495652\n",
            "Train Accuracy: 80.60%. Test Accuracy: 73.42%. LR: 0.005048858887870696\n",
            "Train Accuracy: 74.20%. Test Accuracy: 73.50%. LR: 0.004998370298991989\n",
            "Train Accuracy: 71.80%. Test Accuracy: 73.47%. LR: 0.00494838659600207\n",
            "Train Accuracy: 75.00%. Test Accuracy: 73.57%. LR: 0.004898902730042049\n",
            "Train Accuracy: 76.00%. Test Accuracy: 73.57%. LR: 0.004849913702741628\n",
            "Train Accuracy: 75.00%. Test Accuracy: 73.60%. LR: 0.004801414565714212\n",
            "Train Accuracy: 78.00%. Test Accuracy: 73.72%. LR: 0.0047534004200570695\n",
            "Train Accuracy: 68.00%. Test Accuracy: 73.67%. LR: 0.004705866415856499\n",
            "Train Accuracy: 69.40%. Test Accuracy: 73.51%. LR: 0.004658807751697934\n",
            "Train Accuracy: 75.40%. Test Accuracy: 73.69%. LR: 0.004612219674180955\n",
            "Train Accuracy: 75.00%. Test Accuracy: 73.71%. LR: 0.004566097477439145\n",
            "Train Accuracy: 75.20%. Test Accuracy: 73.57%. LR: 0.004520436502664754\n",
            "Train Accuracy: 68.20%. Test Accuracy: 73.41%. LR: 0.004475232137638106\n",
            "Train Accuracy: 73.60%. Test Accuracy: 73.61%. LR: 0.004430479816261725\n",
            "Train Accuracy: 74.60%. Test Accuracy: 73.56%. LR: 0.004386175018099108\n",
            "Train Accuracy: 69.00%. Test Accuracy: 73.57%. LR: 0.004342313267918117\n",
            "Train Accuracy: 74.00%. Test Accuracy: 74.03%. LR: 0.004298890135238936\n",
            "Train Accuracy: 66.80%. Test Accuracy: 74.35%. LR: 0.004255901233886547\n",
            "Train Accuracy: 73.60%. Test Accuracy: 74.06%. LR: 0.004213342221547681\n",
            "Train Accuracy: 74.60%. Test Accuracy: 74.01%. LR: 0.004171208799332205\n",
            "Train Accuracy: 71.60%. Test Accuracy: 74.08%. LR: 0.004129496711338883\n",
            "Train Accuracy: 72.60%. Test Accuracy: 74.04%. LR: 0.004088201744225493\n",
            "Train Accuracy: 75.40%. Test Accuracy: 73.93%. LR: 0.004047319726783238\n",
            "Train Accuracy: 73.80%. Test Accuracy: 74.04%. LR: 0.004006846529515406\n",
            "Train Accuracy: 72.80%. Test Accuracy: 73.91%. LR: 0.003966778064220252\n",
            "Train Accuracy: 74.00%. Test Accuracy: 73.72%. LR: 0.003927110283578049\n",
            "Train Accuracy: 76.80%. Test Accuracy: 73.88%. LR: 0.0038878391807422685\n",
            "Train Accuracy: 69.60%. Test Accuracy: 73.85%. LR: 0.0038489607889348456\n",
            "Train Accuracy: 72.80%. Test Accuracy: 73.99%. LR: 0.0038104711810454973\n",
            "Train Accuracy: 74.40%. Test Accuracy: 74.03%. LR: 0.0037723664692350424\n",
            "Train Accuracy: 75.60%. Test Accuracy: 74.11%. LR: 0.003734642804542692\n",
            "Train Accuracy: 69.60%. Test Accuracy: 73.80%. LR: 0.003697296376497265\n",
            "Train Accuracy: 70.20%. Test Accuracy: 73.74%. LR: 0.0036603234127322924\n",
            "Train Accuracy: 71.80%. Test Accuracy: 73.80%. LR: 0.0036237201786049693\n",
            "Train Accuracy: 71.00%. Test Accuracy: 73.78%. LR: 0.0035874829768189195\n",
            "Train Accuracy: 71.80%. Test Accuracy: 73.76%. LR: 0.0035516081470507305\n",
            "Train Accuracy: 75.20%. Test Accuracy: 73.71%. LR: 0.0035160920655802233\n",
            "Train Accuracy: 72.40%. Test Accuracy: 73.61%. LR: 0.003480931144924421\n",
            "Train Accuracy: 73.40%. Test Accuracy: 73.62%. LR: 0.003446121833475177\n",
            "Train Accuracy: 77.00%. Test Accuracy: 73.59%. LR: 0.003411660615140425\n",
            "Train Accuracy: 73.20%. Test Accuracy: 73.50%. LR: 0.003377544008989021\n",
            "Train Accuracy: 74.20%. Test Accuracy: 73.38%. LR: 0.003343768568899131\n",
            "Train Accuracy: 75.20%. Test Accuracy: 73.46%. LR: 0.00331033088321014\n",
            "Train Accuracy: 77.60%. Test Accuracy: 73.35%. LR: 0.0032772275743780384\n",
            "Train Accuracy: 77.60%. Test Accuracy: 73.36%. LR: 0.0032444552986342578\n",
            "Train Accuracy: 76.60%. Test Accuracy: 73.36%. LR: 0.0032120107456479153\n",
            "Train Accuracy: 76.00%. Test Accuracy: 73.45%. LR: 0.003179890638191436\n",
            "Train Accuracy: 74.40%. Test Accuracy: 73.38%. LR: 0.003148091731809522\n",
            "Train Accuracy: 70.20%. Test Accuracy: 73.37%. LR: 0.0031166108144914267\n",
            "Train Accuracy: 79.40%. Test Accuracy: 73.49%. LR: 0.0030854447063465122\n",
            "Train Accuracy: 80.20%. Test Accuracy: 73.60%. LR: 0.003054590259283047\n",
            "Train Accuracy: 79.20%. Test Accuracy: 73.54%. LR: 0.0030240443566902165\n",
            "Train Accuracy: 80.80%. Test Accuracy: 73.48%. LR: 0.002993803913123314\n",
            "Epoch 1: training loss = 0.00016946407241984863, test loss = 0.0008369478134104513\n",
            "Epoch: 1, Time Spent: 91.63s, Accuracy: 73.48%\n",
            "Train Accuracy: 76.20%. Test Accuracy: 73.56%. LR: 0.008910000000000001\n",
            "Train Accuracy: 70.00%. Test Accuracy: 73.69%. LR: 0.008820900000000001\n",
            "Train Accuracy: 70.60%. Test Accuracy: 73.42%. LR: 0.008732691\n",
            "Train Accuracy: 79.40%. Test Accuracy: 73.49%. LR: 0.008645364090000001\n",
            "Train Accuracy: 74.80%. Test Accuracy: 73.22%. LR: 0.008558910449100001\n",
            "Train Accuracy: 78.20%. Test Accuracy: 73.07%. LR: 0.008473321344609002\n",
            "Train Accuracy: 73.60%. Test Accuracy: 73.06%. LR: 0.008388588131162911\n",
            "Train Accuracy: 74.60%. Test Accuracy: 73.13%. LR: 0.008304702249851283\n",
            "Train Accuracy: 75.40%. Test Accuracy: 73.34%. LR: 0.00822165522735277\n",
            "Train Accuracy: 77.80%. Test Accuracy: 73.28%. LR: 0.008139438675079241\n",
            "Train Accuracy: 73.80%. Test Accuracy: 73.39%. LR: 0.008058044288328448\n",
            "Train Accuracy: 74.00%. Test Accuracy: 73.58%. LR: 0.007977463845445164\n",
            "Train Accuracy: 75.20%. Test Accuracy: 73.45%. LR: 0.007897689206990712\n",
            "Train Accuracy: 73.60%. Test Accuracy: 73.65%. LR: 0.007818712314920805\n",
            "Train Accuracy: 70.40%. Test Accuracy: 73.55%. LR: 0.007740525191771597\n",
            "Train Accuracy: 71.20%. Test Accuracy: 73.45%. LR: 0.007663119939853881\n",
            "Train Accuracy: 71.20%. Test Accuracy: 73.28%. LR: 0.007586488740455342\n",
            "Train Accuracy: 70.60%. Test Accuracy: 73.35%. LR: 0.007510623853050788\n",
            "Train Accuracy: 76.00%. Test Accuracy: 73.13%. LR: 0.00743551761452028\n",
            "Train Accuracy: 76.80%. Test Accuracy: 73.11%. LR: 0.007361162438375078\n",
            "Train Accuracy: 72.60%. Test Accuracy: 73.23%. LR: 0.007287550813991327\n",
            "Train Accuracy: 75.00%. Test Accuracy: 73.14%. LR: 0.007214675305851414\n",
            "Train Accuracy: 75.20%. Test Accuracy: 72.99%. LR: 0.0071425285527928995\n",
            "Train Accuracy: 69.60%. Test Accuracy: 73.02%. LR: 0.00707110326726497\n",
            "Train Accuracy: 74.20%. Test Accuracy: 73.05%. LR: 0.007000392234592321\n",
            "Train Accuracy: 70.60%. Test Accuracy: 73.03%. LR: 0.006930388312246397\n",
            "Train Accuracy: 70.60%. Test Accuracy: 73.01%. LR: 0.006861084429123933\n",
            "Train Accuracy: 71.00%. Test Accuracy: 73.14%. LR: 0.006792473584832694\n",
            "Train Accuracy: 69.20%. Test Accuracy: 72.84%. LR: 0.006724548848984367\n",
            "Train Accuracy: 67.80%. Test Accuracy: 72.85%. LR: 0.006657303360494523\n",
            "Train Accuracy: 74.60%. Test Accuracy: 72.92%. LR: 0.006590730326889577\n",
            "Train Accuracy: 70.40%. Test Accuracy: 72.90%. LR: 0.006524823023620682\n",
            "Train Accuracy: 72.40%. Test Accuracy: 73.04%. LR: 0.0064595747933844745\n",
            "Train Accuracy: 73.00%. Test Accuracy: 72.87%. LR: 0.00639497904545063\n",
            "Train Accuracy: 74.40%. Test Accuracy: 72.83%. LR: 0.006331029254996123\n",
            "Train Accuracy: 68.20%. Test Accuracy: 72.53%. LR: 0.006267718962446162\n",
            "Train Accuracy: 73.00%. Test Accuracy: 72.53%. LR: 0.0062050417728217\n",
            "Train Accuracy: 75.20%. Test Accuracy: 72.52%. LR: 0.006142991355093484\n",
            "Train Accuracy: 73.80%. Test Accuracy: 72.46%. LR: 0.006081561441542549\n",
            "Train Accuracy: 73.80%. Test Accuracy: 72.58%. LR: 0.006020745827127124\n",
            "Train Accuracy: 72.40%. Test Accuracy: 72.57%. LR: 0.005960538368855853\n",
            "Train Accuracy: 68.60%. Test Accuracy: 72.60%. LR: 0.005900932985167294\n",
            "Train Accuracy: 75.80%. Test Accuracy: 72.35%. LR: 0.005841923655315621\n",
            "Train Accuracy: 77.20%. Test Accuracy: 72.57%. LR: 0.005783504418762465\n",
            "Train Accuracy: 73.80%. Test Accuracy: 72.50%. LR: 0.00572566937457484\n",
            "Train Accuracy: 70.00%. Test Accuracy: 72.55%. LR: 0.005668412680829091\n",
            "Train Accuracy: 74.00%. Test Accuracy: 72.54%. LR: 0.0056117285540208004\n",
            "Train Accuracy: 73.60%. Test Accuracy: 72.39%. LR: 0.005555611268480592\n",
            "Train Accuracy: 72.60%. Test Accuracy: 72.41%. LR: 0.005500055155795786\n",
            "Train Accuracy: 68.60%. Test Accuracy: 72.34%. LR: 0.0054450546042378286\n",
            "Train Accuracy: 75.20%. Test Accuracy: 72.25%. LR: 0.00539060405819545\n",
            "Train Accuracy: 74.80%. Test Accuracy: 72.18%. LR: 0.005336698017613496\n",
            "Train Accuracy: 74.20%. Test Accuracy: 72.26%. LR: 0.005283331037437361\n",
            "Train Accuracy: 69.60%. Test Accuracy: 72.30%. LR: 0.005230497727062988\n",
            "Train Accuracy: 71.40%. Test Accuracy: 72.35%. LR: 0.005178192749792357\n",
            "Train Accuracy: 75.00%. Test Accuracy: 72.27%. LR: 0.005126410822294434\n",
            "Train Accuracy: 74.40%. Test Accuracy: 72.27%. LR: 0.0050751467140714894\n",
            "Train Accuracy: 72.80%. Test Accuracy: 72.17%. LR: 0.0050243952469307745\n",
            "Train Accuracy: 70.00%. Test Accuracy: 72.31%. LR: 0.004974151294461467\n",
            "Train Accuracy: 68.40%. Test Accuracy: 72.17%. LR: 0.004924409781516852\n",
            "Train Accuracy: 68.00%. Test Accuracy: 72.06%. LR: 0.004875165683701684\n",
            "Train Accuracy: 67.60%. Test Accuracy: 71.95%. LR: 0.004826414026864667\n",
            "Train Accuracy: 68.80%. Test Accuracy: 71.85%. LR: 0.00477814988659602\n",
            "Train Accuracy: 72.60%. Test Accuracy: 71.81%. LR: 0.00473036838773006\n",
            "Train Accuracy: 64.80%. Test Accuracy: 71.77%. LR: 0.00468306470385276\n",
            "Train Accuracy: 73.20%. Test Accuracy: 71.73%. LR: 0.0046362340568142325\n",
            "Train Accuracy: 73.20%. Test Accuracy: 71.55%. LR: 0.00458987171624609\n",
            "Train Accuracy: 79.00%. Test Accuracy: 71.78%. LR: 0.004543972999083629\n",
            "Train Accuracy: 73.20%. Test Accuracy: 71.87%. LR: 0.004498533269092792\n",
            "Train Accuracy: 66.80%. Test Accuracy: 71.90%. LR: 0.0044535479364018644\n",
            "Train Accuracy: 70.80%. Test Accuracy: 71.56%. LR: 0.004409012457037845\n",
            "Train Accuracy: 71.00%. Test Accuracy: 71.82%. LR: 0.004364922332467467\n",
            "Train Accuracy: 71.40%. Test Accuracy: 71.70%. LR: 0.0043212731091427925\n",
            "Train Accuracy: 73.20%. Test Accuracy: 71.79%. LR: 0.004278060378051365\n",
            "Train Accuracy: 66.80%. Test Accuracy: 71.79%. LR: 0.004235279774270851\n",
            "Train Accuracy: 69.40%. Test Accuracy: 71.86%. LR: 0.004192926976528143\n",
            "Train Accuracy: 71.40%. Test Accuracy: 71.77%. LR: 0.004150997706762861\n",
            "Train Accuracy: 72.60%. Test Accuracy: 71.71%. LR: 0.004109487729695232\n",
            "Train Accuracy: 71.40%. Test Accuracy: 71.62%. LR: 0.00406839285239828\n",
            "Train Accuracy: 67.80%. Test Accuracy: 71.57%. LR: 0.004027708923874297\n",
            "Train Accuracy: 70.20%. Test Accuracy: 71.63%. LR: 0.003987431834635554\n",
            "Train Accuracy: 74.40%. Test Accuracy: 71.76%. LR: 0.003947557516289198\n",
            "Train Accuracy: 65.60%. Test Accuracy: 71.67%. LR: 0.003908081941126306\n",
            "Train Accuracy: 71.80%. Test Accuracy: 71.66%. LR: 0.003869001121715043\n",
            "Train Accuracy: 65.40%. Test Accuracy: 71.59%. LR: 0.0038303111104978924\n",
            "Train Accuracy: 68.20%. Test Accuracy: 71.74%. LR: 0.0037920079993929135\n",
            "Train Accuracy: 72.20%. Test Accuracy: 71.60%. LR: 0.003754087919398984\n",
            "Train Accuracy: 72.20%. Test Accuracy: 71.66%. LR: 0.0037165470402049944\n",
            "Train Accuracy: 68.80%. Test Accuracy: 71.78%. LR: 0.0036793815698029446\n",
            "Train Accuracy: 73.80%. Test Accuracy: 71.76%. LR: 0.0036425877541049153\n",
            "Train Accuracy: 71.20%. Test Accuracy: 71.62%. LR: 0.0036061618765638663\n",
            "Train Accuracy: 72.60%. Test Accuracy: 71.73%. LR: 0.0035701002577982277\n",
            "Train Accuracy: 71.00%. Test Accuracy: 71.67%. LR: 0.0035343992552202452\n",
            "Train Accuracy: 73.60%. Test Accuracy: 71.75%. LR: 0.0034990552626680427\n",
            "Train Accuracy: 70.20%. Test Accuracy: 71.49%. LR: 0.0034640647100413623\n",
            "Train Accuracy: 71.40%. Test Accuracy: 71.44%. LR: 0.003429424062940949\n",
            "Train Accuracy: 72.00%. Test Accuracy: 71.64%. LR: 0.0033951298223115394\n",
            "Train Accuracy: 73.60%. Test Accuracy: 71.66%. LR: 0.003361178524088424\n",
            "Train Accuracy: 70.40%. Test Accuracy: 71.37%. LR: 0.0033275667388475397\n",
            "Train Accuracy: 67.60%. Test Accuracy: 71.33%. LR: 0.0032942910714590643\n",
            "Train Accuracy: 71.40%. Test Accuracy: 71.34%. LR: 0.0032613481607444736\n",
            "Train Accuracy: 68.60%. Test Accuracy: 71.42%. LR: 0.0032287346791370288\n",
            "Train Accuracy: 68.00%. Test Accuracy: 71.49%. LR: 0.0031964473323456586\n",
            "Train Accuracy: 73.60%. Test Accuracy: 71.47%. LR: 0.003164482859022202\n",
            "Train Accuracy: 70.40%. Test Accuracy: 71.38%. LR: 0.00313283803043198\n",
            "Train Accuracy: 70.40%. Test Accuracy: 71.42%. LR: 0.00310150965012766\n",
            "Train Accuracy: 75.20%. Test Accuracy: 71.30%. LR: 0.0030704945536263835\n",
            "Train Accuracy: 71.20%. Test Accuracy: 71.33%. LR: 0.0030397896080901197\n",
            "Train Accuracy: 72.40%. Test Accuracy: 71.26%. LR: 0.0030093917120092187\n",
            "Train Accuracy: 72.80%. Test Accuracy: 71.32%. LR: 0.0029792977948891264\n",
            "Train Accuracy: 76.60%. Test Accuracy: 71.34%. LR: 0.002949504816940235\n",
            "Train Accuracy: 74.80%. Test Accuracy: 71.51%. LR: 0.0029200097687708325\n",
            "Train Accuracy: 74.20%. Test Accuracy: 71.35%. LR: 0.0028908096710831242\n",
            "Train Accuracy: 76.00%. Test Accuracy: 71.26%. LR: 0.002861901574372293\n",
            "Train Accuracy: 72.40%. Test Accuracy: 71.31%. LR: 0.00283328255862857\n",
            "Train Accuracy: 69.20%. Test Accuracy: 71.25%. LR: 0.002804949733042284\n",
            "Train Accuracy: 75.80%. Test Accuracy: 71.24%. LR: 0.002776900235711861\n",
            "Train Accuracy: 79.80%. Test Accuracy: 71.19%. LR: 0.0027491312333547424\n",
            "Train Accuracy: 74.40%. Test Accuracy: 71.21%. LR: 0.0027216399210211947\n",
            "Train Accuracy: 78.00%. Test Accuracy: 71.25%. LR: 0.002694423521810983\n",
            "Epoch 2: training loss = 0.00017021127698912397, test loss = 0.000841711648719453\n",
            "Epoch: 2, Time Spent: 181.36s, Accuracy: 71.25%\n",
            "Train Accuracy: 75.00%. Test Accuracy: 71.23%. LR: 0.008019000000000002\n",
            "Train Accuracy: 68.20%. Test Accuracy: 71.10%. LR: 0.007938810000000001\n",
            "Train Accuracy: 68.60%. Test Accuracy: 70.94%. LR: 0.007859421900000002\n",
            "Train Accuracy: 76.40%. Test Accuracy: 71.14%. LR: 0.007780827681000002\n",
            "Train Accuracy: 72.80%. Test Accuracy: 71.32%. LR: 0.007703019404190002\n",
            "Train Accuracy: 74.80%. Test Accuracy: 71.33%. LR: 0.007625989210148102\n",
            "Train Accuracy: 71.40%. Test Accuracy: 71.43%. LR: 0.007549729318046621\n",
            "Train Accuracy: 74.00%. Test Accuracy: 71.14%. LR: 0.007474232024866155\n",
            "Train Accuracy: 75.00%. Test Accuracy: 71.30%. LR: 0.007399489704617493\n",
            "Train Accuracy: 75.00%. Test Accuracy: 71.17%. LR: 0.007325494807571318\n",
            "Train Accuracy: 71.20%. Test Accuracy: 71.21%. LR: 0.007252239859495605\n",
            "Train Accuracy: 72.20%. Test Accuracy: 71.05%. LR: 0.007179717460900649\n",
            "Train Accuracy: 72.40%. Test Accuracy: 70.98%. LR: 0.0071079202862916425\n",
            "Train Accuracy: 70.20%. Test Accuracy: 71.04%. LR: 0.007036841083428726\n",
            "Train Accuracy: 68.80%. Test Accuracy: 71.13%. LR: 0.006966472672594439\n",
            "Train Accuracy: 66.80%. Test Accuracy: 71.12%. LR: 0.006896807945868494\n",
            "Train Accuracy: 70.00%. Test Accuracy: 70.98%. LR: 0.006827839866409809\n",
            "Train Accuracy: 68.20%. Test Accuracy: 71.05%. LR: 0.006759561467745711\n",
            "Train Accuracy: 75.40%. Test Accuracy: 71.10%. LR: 0.006691965853068253\n",
            "Train Accuracy: 75.20%. Test Accuracy: 71.09%. LR: 0.006625046194537571\n",
            "Train Accuracy: 71.80%. Test Accuracy: 71.23%. LR: 0.006558795732592195\n",
            "Train Accuracy: 72.40%. Test Accuracy: 71.26%. LR: 0.006493207775266273\n",
            "Train Accuracy: 72.80%. Test Accuracy: 71.14%. LR: 0.00642827569751361\n",
            "Train Accuracy: 65.20%. Test Accuracy: 71.03%. LR: 0.006363992940538474\n",
            "Train Accuracy: 70.20%. Test Accuracy: 70.98%. LR: 0.006300353011133089\n",
            "Train Accuracy: 71.00%. Test Accuracy: 70.97%. LR: 0.0062373494810217586\n",
            "Train Accuracy: 70.40%. Test Accuracy: 70.94%. LR: 0.006174975986211541\n",
            "Train Accuracy: 68.20%. Test Accuracy: 70.90%. LR: 0.0061132262263494256\n",
            "Train Accuracy: 68.20%. Test Accuracy: 71.03%. LR: 0.0060520939640859315\n",
            "Train Accuracy: 66.00%. Test Accuracy: 70.81%. LR: 0.005991573024445072\n",
            "Train Accuracy: 72.60%. Test Accuracy: 70.72%. LR: 0.005931657294200621\n",
            "Train Accuracy: 67.40%. Test Accuracy: 70.41%. LR: 0.005872340721258615\n",
            "Train Accuracy: 69.80%. Test Accuracy: 70.67%. LR: 0.005813617314046029\n",
            "Train Accuracy: 68.40%. Test Accuracy: 70.43%. LR: 0.005755481140905568\n",
            "Train Accuracy: 70.20%. Test Accuracy: 70.42%. LR: 0.005697926329496512\n",
            "Train Accuracy: 67.80%. Test Accuracy: 70.39%. LR: 0.005640947066201547\n",
            "Train Accuracy: 69.80%. Test Accuracy: 70.64%. LR: 0.005584537595539531\n",
            "Train Accuracy: 73.00%. Test Accuracy: 70.63%. LR: 0.0055286922195841364\n",
            "Train Accuracy: 70.60%. Test Accuracy: 70.82%. LR: 0.005473405297388295\n",
            "Train Accuracy: 75.00%. Test Accuracy: 70.68%. LR: 0.005418671244414412\n",
            "Train Accuracy: 71.60%. Test Accuracy: 70.70%. LR: 0.005364484531970268\n",
            "Train Accuracy: 66.80%. Test Accuracy: 70.74%. LR: 0.005310839686650566\n",
            "Train Accuracy: 76.40%. Test Accuracy: 70.70%. LR: 0.00525773128978406\n",
            "Train Accuracy: 77.40%. Test Accuracy: 70.71%. LR: 0.00520515397688622\n",
            "Train Accuracy: 73.40%. Test Accuracy: 70.87%. LR: 0.005153102437117358\n",
            "Train Accuracy: 66.20%. Test Accuracy: 70.97%. LR: 0.005101571412746184\n",
            "Train Accuracy: 71.80%. Test Accuracy: 70.83%. LR: 0.005050555698618722\n",
            "Train Accuracy: 70.80%. Test Accuracy: 70.94%. LR: 0.0050000501416325345\n",
            "Train Accuracy: 69.60%. Test Accuracy: 70.72%. LR: 0.004950049640216209\n",
            "Train Accuracy: 66.20%. Test Accuracy: 70.84%. LR: 0.004900549143814046\n",
            "Train Accuracy: 70.00%. Test Accuracy: 70.69%. LR: 0.004851543652375906\n",
            "Train Accuracy: 74.00%. Test Accuracy: 70.54%. LR: 0.004803028215852147\n",
            "Train Accuracy: 74.00%. Test Accuracy: 70.59%. LR: 0.004754997933693625\n",
            "Train Accuracy: 70.40%. Test Accuracy: 70.48%. LR: 0.004707447954356689\n",
            "Train Accuracy: 72.60%. Test Accuracy: 70.59%. LR: 0.004660373474813123\n",
            "Train Accuracy: 73.80%. Test Accuracy: 70.52%. LR: 0.004613769740064991\n",
            "Train Accuracy: 74.00%. Test Accuracy: 70.47%. LR: 0.004567632042664341\n",
            "Train Accuracy: 68.40%. Test Accuracy: 70.58%. LR: 0.004521955722237698\n",
            "Train Accuracy: 68.00%. Test Accuracy: 70.75%. LR: 0.004476736165015321\n",
            "Train Accuracy: 65.40%. Test Accuracy: 70.75%. LR: 0.0044319688033651675\n",
            "Train Accuracy: 67.60%. Test Accuracy: 70.80%. LR: 0.004387649115331516\n",
            "Train Accuracy: 67.00%. Test Accuracy: 70.84%. LR: 0.0043437726241782005\n",
            "Train Accuracy: 69.60%. Test Accuracy: 70.68%. LR: 0.004300334897936418\n",
            "Train Accuracy: 70.00%. Test Accuracy: 70.58%. LR: 0.004257331548957054\n",
            "Train Accuracy: 62.80%. Test Accuracy: 70.65%. LR: 0.004214758233467483\n",
            "Train Accuracy: 71.00%. Test Accuracy: 70.52%. LR: 0.0041726106511328085\n",
            "Train Accuracy: 73.20%. Test Accuracy: 70.51%. LR: 0.00413088454462148\n",
            "Train Accuracy: 77.80%. Test Accuracy: 70.80%. LR: 0.004089575699175265\n",
            "Train Accuracy: 71.60%. Test Accuracy: 70.86%. LR: 0.004048679942183513\n"
          ],
          "name": "stdout"
        },
        {
          "output_type": "error",
          "ename": "KeyboardInterrupt",
          "evalue": "ignored",
          "traceback": [
            "\u001b[0;31m---------------------------------------------------------------------------\u001b[0m",
            "\u001b[0;31mKeyboardInterrupt\u001b[0m                         Traceback (most recent call last)",
            "\u001b[0;32m<ipython-input-44-40fb2e721b94>\u001b[0m in \u001b[0;36m<module>\u001b[0;34m()\u001b[0m\n\u001b[1;32m     21\u001b[0m         \u001b[0mcache\u001b[0m \u001b[0;34m=\u001b[0m \u001b[0mfeed_forward\u001b[0m\u001b[0;34m(\u001b[0m\u001b[0mX\u001b[0m\u001b[0;34m,\u001b[0m \u001b[0mparams\u001b[0m\u001b[0;34m)\u001b[0m\u001b[0;34m\u001b[0m\u001b[0;34m\u001b[0m\u001b[0m\n\u001b[1;32m     22\u001b[0m \u001b[0;34m\u001b[0m\u001b[0m\n\u001b[0;32m---> 23\u001b[0;31m         \u001b[0mgrads\u001b[0m \u001b[0;34m=\u001b[0m \u001b[0mback_propagate\u001b[0m\u001b[0;34m(\u001b[0m\u001b[0mX\u001b[0m\u001b[0;34m,\u001b[0m \u001b[0mY\u001b[0m\u001b[0;34m,\u001b[0m \u001b[0mparams\u001b[0m\u001b[0;34m,\u001b[0m \u001b[0mcache\u001b[0m\u001b[0;34m,\u001b[0m \u001b[0mm_batch\u001b[0m\u001b[0;34m)\u001b[0m\u001b[0;34m\u001b[0m\u001b[0;34m\u001b[0m\u001b[0m\n\u001b[0m\u001b[1;32m     24\u001b[0m         \u001b[0;31m#print(grads)\u001b[0m\u001b[0;34m\u001b[0m\u001b[0;34m\u001b[0m\u001b[0;34m\u001b[0m\u001b[0m\n\u001b[1;32m     25\u001b[0m         \u001b[0mparams\u001b[0m \u001b[0;34m=\u001b[0m \u001b[0mupdate_weights\u001b[0m\u001b[0;34m(\u001b[0m\u001b[0mparams\u001b[0m\u001b[0;34m,\u001b[0m \u001b[0mgrads\u001b[0m\u001b[0;34m,\u001b[0m \u001b[0mlearning_rate\u001b[0m\u001b[0;34m)\u001b[0m\u001b[0;34m\u001b[0m\u001b[0;34m\u001b[0m\u001b[0m\n",
            "\u001b[0;32m<ipython-input-13-54e9ab1c1b9a>\u001b[0m in \u001b[0;36mback_propagate\u001b[0;34m(X, Y, params, cache, m_batch)\u001b[0m\n\u001b[1;32m     25\u001b[0m     \u001b[0mdA1\u001b[0m \u001b[0;34m=\u001b[0m \u001b[0mnp\u001b[0m\u001b[0;34m.\u001b[0m\u001b[0mmatmul\u001b[0m\u001b[0;34m(\u001b[0m\u001b[0mparams\u001b[0m\u001b[0;34m[\u001b[0m\u001b[0;34m\"W2\"\u001b[0m\u001b[0;34m]\u001b[0m\u001b[0;34m.\u001b[0m\u001b[0mT\u001b[0m\u001b[0;34m,\u001b[0m \u001b[0mdZ2\u001b[0m\u001b[0;34m)\u001b[0m\u001b[0;34m\u001b[0m\u001b[0;34m\u001b[0m\u001b[0m\n\u001b[1;32m     26\u001b[0m     \u001b[0mdZ1\u001b[0m \u001b[0;34m=\u001b[0m \u001b[0mdA1\u001b[0m \u001b[0;34m*\u001b[0m \u001b[0msigmoid\u001b[0m\u001b[0;34m(\u001b[0m\u001b[0mcache\u001b[0m\u001b[0;34m[\u001b[0m\u001b[0;34m\"Z1\"\u001b[0m\u001b[0;34m]\u001b[0m\u001b[0;34m)\u001b[0m \u001b[0;34m*\u001b[0m \u001b[0;34m(\u001b[0m\u001b[0;36m1\u001b[0m \u001b[0;34m-\u001b[0m \u001b[0msigmoid\u001b[0m\u001b[0;34m(\u001b[0m\u001b[0mcache\u001b[0m\u001b[0;34m[\u001b[0m\u001b[0;34m\"Z1\"\u001b[0m\u001b[0;34m]\u001b[0m\u001b[0;34m)\u001b[0m\u001b[0;34m)\u001b[0m\u001b[0;34m\u001b[0m\u001b[0;34m\u001b[0m\u001b[0m\n\u001b[0;32m---> 27\u001b[0;31m     \u001b[0mdW1\u001b[0m\u001b[0;34m,\u001b[0m \u001b[0mdb1\u001b[0m \u001b[0;34m=\u001b[0m \u001b[0mmini_batch_gradient\u001b[0m\u001b[0;34m(\u001b[0m\u001b[0mdZ1\u001b[0m\u001b[0;34m,\u001b[0m \u001b[0ma0\u001b[0m\u001b[0;34m)\u001b[0m\u001b[0;34m\u001b[0m\u001b[0;34m\u001b[0m\u001b[0m\n\u001b[0m\u001b[1;32m     28\u001b[0m \u001b[0;34m\u001b[0m\u001b[0m\n\u001b[1;32m     29\u001b[0m     \u001b[0mgrads\u001b[0m \u001b[0;34m=\u001b[0m \u001b[0;34m{\u001b[0m\u001b[0;34m\"dW1\"\u001b[0m\u001b[0;34m:\u001b[0m \u001b[0mdW1\u001b[0m\u001b[0;34m,\u001b[0m \u001b[0;34m\"db1\"\u001b[0m\u001b[0;34m:\u001b[0m \u001b[0mdb1\u001b[0m\u001b[0;34m,\u001b[0m \u001b[0;34m\"dW2\"\u001b[0m\u001b[0;34m:\u001b[0m \u001b[0mdW2\u001b[0m\u001b[0;34m,\u001b[0m \u001b[0;34m\"db2\"\u001b[0m\u001b[0;34m:\u001b[0m \u001b[0mdb2\u001b[0m\u001b[0;34m}\u001b[0m\u001b[0;34m\u001b[0m\u001b[0;34m\u001b[0m\u001b[0m\n",
            "\u001b[0;31mKeyboardInterrupt\u001b[0m: "
          ]
        }
      ]
    },
    {
      "cell_type": "code",
      "metadata": {
        "id": "9YGJcgzo6lqa",
        "outputId": "757623ac-c46e-4e04-d327-44ee6f3df03c",
        "colab": {
          "base_uri": "https://localhost:8080/"
        }
      },
      "source": [
        "t= np.array([[[0,1], [2,3]], [[4,5], [6,7]]])\n",
        "print(t.shape)\n",
        "print(\"\")\n",
        "print(t)\n",
        "print(\"\")\n",
        "print(np.transpose(t[0]))\n",
        "print(np.transpose(t[1]))\n",
        "print(\"\")\n",
        "print(np.transpose(t,(0,2,1)))"
      ],
      "execution_count": 91,
      "outputs": [
        {
          "output_type": "stream",
          "text": [
            "(2, 2, 2)\n",
            "\n",
            "[[[0 1]\n",
            "  [2 3]]\n",
            "\n",
            " [[4 5]\n",
            "  [6 7]]]\n",
            "\n",
            "[[0 2]\n",
            " [1 3]]\n",
            "[[4 6]\n",
            " [5 7]]\n",
            "\n",
            "[[[0 2]\n",
            "  [1 3]]\n",
            "\n",
            " [[4 6]\n",
            "  [5 7]]]\n"
          ],
          "name": "stdout"
        }
      ]
    }
  ]
}